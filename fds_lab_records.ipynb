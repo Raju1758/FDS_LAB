{
  "nbformat": 4,
  "nbformat_minor": 0,
  "metadata": {
    "colab": {
      "provenance": []
    },
    "kernelspec": {
      "name": "python3",
      "display_name": "Python 3"
    },
    "language_info": {
      "name": "python"
    }
  },
  "cells": [
    {
      "cell_type": "markdown",
      "metadata": {
        "id": "b1Xe4VtOORG_"
      },
      "source": [
        "# **EX no:1    Working with numpy array**\n"
      ]
    },
    {
      "cell_type": "markdown",
      "metadata": {
        "id": "90wNHg6fOn3U"
      },
      "source": [
        "program: 1"
      ]
    },
    {
      "cell_type": "code",
      "metadata": {
        "id": "agQPfbVNYWPp",
        "colab": {
          "base_uri": "https://localhost:8080/"
        },
        "outputId": "f4b979f7-2e6b-4276-d610-488aac70ba65"
      },
      "source": [
        "# Python program to demonstrate \n",
        "# basic array characteristics\n",
        "import numpy as np\n",
        "  \n",
        "# Creating array object\n",
        "arr = np.array( [[ 25, 6, 3, 5],\n",
        "                 [ 4, 13, 55, 8]] )\n",
        "  \n",
        "# Printing type of arr object\n",
        "print(\"Array is of type: \", type(arr))\n",
        "  \n",
        "# Printing array dimensions (axes)\n",
        "print(\"No. of dimensions: \", arr.ndim)\n",
        "  \n",
        "# Printing shape of array\n",
        "print(\"Shape of array: \", arr.shape)\n",
        "  \n",
        "# Printing size (total number of elements) of array\n",
        "print(\"Size of array: \", arr.size)\n",
        "  \n",
        "# Printing type of elements in array\n",
        "print(\"Array stores elements of type: \", arr.dtype)\n",
        "\n"
      ],
      "execution_count": null,
      "outputs": [
        {
          "output_type": "stream",
          "name": "stdout",
          "text": [
            "Array is of type:  <class 'numpy.ndarray'>\n",
            "No. of dimensions:  2\n",
            "Shape of array:  (2, 4)\n",
            "Size of array:  8\n",
            "Array stores elements of type:  int64\n"
          ]
        }
      ]
    },
    {
      "cell_type": "markdown",
      "metadata": {
        "id": "DLPtdOM4OmNT"
      },
      "source": [
        "program: 2"
      ]
    },
    {
      "cell_type": "code",
      "metadata": {
        "colab": {
          "base_uri": "https://localhost:8080/"
        },
        "id": "Wueopn4oOvBO",
        "outputId": "50c2f827-cbcb-4657-8855-c4eefc230333"
      },
      "source": [
        "#program:2\n",
        "import numpy as np\n",
        "  \n",
        "# Creating array from list with type float\n",
        "a = np.array([[11, 32, 4], [15, 48, 97]], dtype = 'float')\n",
        "print (\"Array created using passed list:\\n\", a)\n",
        "  \n",
        "# Creating array from tuple\n",
        "b = np.array((15 , 32, 28))\n",
        "print (\"\\nArray created using passed tuple:\\n\", b)\n",
        "  \n",
        "# Creating a 3X4 array with all zeros\n",
        "c = np.zeros((31, 41))\n",
        "print (\"\\nAn array initialized with all zeros:\\n\", c)\n",
        "  \n",
        "# Create a constant value array of complex type\n",
        "d = np.full((3, 3), 6, dtype = 'complex')\n",
        "print (\"\\nAn array initialized with all 6s.\" \n",
        "            \"Array type is complex:\\n\", d)\n",
        "  \n",
        "# Create an array with random values\n",
        "e = np.random.random((2, 2))\n",
        "print (\"\\nA random array:\\n\", e)\n",
        "  \n",
        "# Create a sequence of integers \n",
        "# from 0 to 30 with steps of 5\n",
        "f = np.arange(0, 30, 5)\n",
        "print (\"\\nA sequential array with steps of 5:\\n\", f)\n",
        "  \n",
        "# Create a sequence of 10 values in range 0 to 5\n",
        "g = np.linspace(0, 5, 10)\n",
        "print (\"\\nA sequential array with 10 values between\"\n",
        "                                        \"0 and 5:\\n\", g)\n",
        "  \n",
        "# Reshaping 3X4 array to 2X2X3 array\n",
        "arr = np.array([[1, 2, 3, 4],\n",
        "                [5, 2, 4, 2],\n",
        "                [1, 2, 0, 1]])\n",
        "  \n",
        "newarr = arr.reshape(2, 2, 3)\n",
        "  \n",
        "print (\"\\nOriginal array:\\n\", arr)\n",
        "print (\"Reshaped array:\\n\", newarr)\n",
        "  \n",
        "\n",
        "# Flatten array\n",
        "arr = np.array([[1, 2, 3], [4, 5, 6]])\n",
        "flarr = arr.flatten()\n",
        "  \n",
        "print (\"\\nOriginal array:\\n\", arr)\n",
        "print (\"Fattened array:\\n\", flarr)"
      ],
      "execution_count": null,
      "outputs": [
        {
          "output_type": "stream",
          "name": "stdout",
          "text": [
            "Array created using passed list:\n",
            " [[11. 32.  4.]\n",
            " [15. 48. 97.]]\n",
            "\n",
            "Array created using passed tuple:\n",
            " [15 32 28]\n",
            "\n",
            "An array initialized with all zeros:\n",
            " [[0. 0. 0. ... 0. 0. 0.]\n",
            " [0. 0. 0. ... 0. 0. 0.]\n",
            " [0. 0. 0. ... 0. 0. 0.]\n",
            " ...\n",
            " [0. 0. 0. ... 0. 0. 0.]\n",
            " [0. 0. 0. ... 0. 0. 0.]\n",
            " [0. 0. 0. ... 0. 0. 0.]]\n",
            "\n",
            "An array initialized with all 6s.Array type is complex:\n",
            " [[6.+0.j 6.+0.j 6.+0.j]\n",
            " [6.+0.j 6.+0.j 6.+0.j]\n",
            " [6.+0.j 6.+0.j 6.+0.j]]\n",
            "\n",
            "A random array:\n",
            " [[0.05756429 0.25834187]\n",
            " [0.38841424 0.00113623]]\n",
            "\n",
            "A sequential array with steps of 5:\n",
            " [ 0  5 10 15 20 25]\n",
            "\n",
            "A sequential array with 10 values between0 and 5:\n",
            " [0.         0.55555556 1.11111111 1.66666667 2.22222222 2.77777778\n",
            " 3.33333333 3.88888889 4.44444444 5.        ]\n",
            "\n",
            "Original array:\n",
            " [[1 2 3 4]\n",
            " [5 2 4 2]\n",
            " [1 2 0 1]]\n",
            "Reshaped array:\n",
            " [[[1 2 3]\n",
            "  [4 5 2]]\n",
            "\n",
            " [[4 2 1]\n",
            "  [2 0 1]]]\n",
            "\n",
            "Original array:\n",
            " [[1 2 3]\n",
            " [4 5 6]]\n",
            "Fattened array:\n",
            " [1 2 3 4 5 6]\n"
          ]
        }
      ]
    },
    {
      "cell_type": "markdown",
      "metadata": {
        "id": "_YOhZi63QHqg"
      },
      "source": [
        "program:3"
      ]
    },
    {
      "cell_type": "code",
      "metadata": {
        "colab": {
          "base_uri": "https://localhost:8080/"
        },
        "id": "osc_B16RQOOH",
        "outputId": "dd5a8a3a-ada5-4301-a091-ed4c2768df8a"
      },
      "source": [
        "# Python program to demonstrate\n",
        "# indexing in numpy\n",
        "import numpy as np\n",
        "  \n",
        "# An exemplar array\n",
        "arr = np.array([[-1, 2, 0, 4],\n",
        "                [4, -0.5, 6, 0],\n",
        "                [2.6, 0, 7, 8],\n",
        "                [3, -7, 4, 2.0]])\n",
        "  \n",
        "# Slicing array\n",
        "temp = arr[:2, ::2]\n",
        "\n",
        "print (\"Array with first 2 rows and alternate\"\n",
        "                    \"columns(0 and 2):\\n\", temp)\n",
        "  \n",
        "# Integer array indexing example\n",
        "temp = arr[[0, 1, 2, 3], [3, 2, 1, 0]]\n",
        "print (\"\\nElements at indices (0, 3), (1, 2), (2, 1),\"\n",
        "                                    \"(3, 0):\\n\", temp)\n",
        "  \n",
        "# boolean array indexing example\n",
        "cond = arr > 0 # cond is a boolean array\n",
        "temp = arr[cond]\n",
        "print (\"\\nElements greater than 0:\\n\", temp)\n"
      ],
      "execution_count": null,
      "outputs": [
        {
          "output_type": "stream",
          "name": "stdout",
          "text": [
            "Array with first 2 rows and alternatecolumns(0 and 2):\n",
            " [[-1.  0.]\n",
            " [ 4.  6.]]\n",
            "\n",
            "Elements at indices (0, 3), (1, 2), (2, 1),(3, 0):\n",
            " [4. 6. 0. 3.]\n",
            "\n",
            "Elements greater than 0:\n",
            " [2.  4.  4.  6.  2.6 7.  8.  3.  4.  2. ]\n"
          ]
        }
      ]
    },
    {
      "cell_type": "markdown",
      "metadata": {
        "id": "h-Z6zjSVQWO6"
      },
      "source": [
        "**EX NO 2:Working with Pandas data frames**"
      ]
    },
    {
      "cell_type": "code",
      "metadata": {
        "colab": {
          "resources": {
            "http://localhost:8080/nbextensions/google.colab/files.js": {
              "data": "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",
              "ok": true,
              "headers": [
                [
                  "content-type",
                  "application/javascript"
                ]
              ],
              "status": 200,
              "status_text": ""
            }
          },
          "base_uri": "https://localhost:8080/",
          "height": 74
        },
        "id": "-ITIv4bmi7Vj",
        "outputId": "cf4af6bc-b616-4ba9-fbdf-7a70a50ffd85"
      },
      "source": [
        "from google.colab import files\n",
        "uploaded = files.upload()"
      ],
      "execution_count": null,
      "outputs": [
        {
          "output_type": "display_data",
          "data": {
            "text/html": [
              "\n",
              "     <input type=\"file\" id=\"files-13a49091-a7e5-40cb-88e4-91f37fa9e491\" name=\"files[]\" multiple disabled\n",
              "        style=\"border:none\" />\n",
              "     <output id=\"result-13a49091-a7e5-40cb-88e4-91f37fa9e491\">\n",
              "      Upload widget is only available when the cell has been executed in the\n",
              "      current browser session. Please rerun this cell to enable.\n",
              "      </output>\n",
              "      <script src=\"/nbextensions/google.colab/files.js\"></script> "
            ],
            "text/plain": [
              "<IPython.core.display.HTML object>"
            ]
          },
          "metadata": {}
        },
        {
          "output_type": "stream",
          "name": "stdout",
          "text": [
            "Saving nba.csv to nba.csv\n"
          ]
        }
      ]
    },
    {
      "cell_type": "code",
      "metadata": {
        "colab": {
          "base_uri": "https://localhost:8080/"
        },
        "id": "Ir5LxgE8QdrS",
        "outputId": "3ab924c0-c38c-4c54-8d27-96e3d2d0a4c9"
      },
      "source": [
        "# import pandas as pd\n",
        "import pandas as pd\n",
        " \n",
        "# list of strings\n",
        "lst = ['Geeks', 'For', 'Geeks', 'is', \n",
        "            'portal', 'for', 'Geeks']\n",
        " \n",
        "# Calling DataFrame constructor on list\n",
        "df = pd.DataFrame(lst)\n",
        "print(df)\n",
        "\n",
        "# Define a dictionary containing employee data\n",
        "data = {'Name':['Jai', 'Princi', 'Gaurav', 'Anuj'],\n",
        "        'Age':[27, 24, 22, 32],\n",
        "        'Address':['Delhi', 'Kanpur', 'Allahabad', 'Kannauj'],\n",
        "        'Qualification':['Msc', 'MA', 'MCA', 'Phd']}\n",
        " \n",
        "# Convert the dictionary into DataFrame \n",
        "df = pd.DataFrame(data)\n",
        " \n",
        "# select two columns\n",
        "print(df[['Name', 'Qualification']])\n",
        "\n",
        "# making data frame from csv file\n",
        "data = pd.read_csv(\"nba.csv\", index_col =\"Name\")\n",
        " \n",
        "# retrieving row by loc method\n",
        "first = data.loc[\"Avery Bradley\"]\n",
        "second = data.loc[\"R.J. Hunter\"]\n",
        "print(first, \"\\n\\n\\n\", second)\n",
        "# making data frame from csv file\n",
        "data = pd.read_csv(\"nba.csv\", index_col =\"Name\")\n",
        "# retrieving columns by indexing operator\n",
        "first = data[\"Age\"]\n",
        "print(first)\n",
        "\n"
      ],
      "execution_count": null,
      "outputs": [
        {
          "output_type": "stream",
          "name": "stdout",
          "text": [
            "        0\n",
            "0   Geeks\n",
            "1     For\n",
            "2   Geeks\n",
            "3      is\n",
            "4  portal\n",
            "5     for\n",
            "6   Geeks\n",
            "     Name Qualification\n",
            "0     Jai           Msc\n",
            "1  Princi            MA\n",
            "2  Gaurav           MCA\n",
            "3    Anuj           Phd\n",
            "Team        Boston Celtics\n",
            "Number                   0\n",
            "Position                PG\n",
            "Age                     25\n",
            "Height                 6-2\n",
            "Weight                 180\n",
            "College              Texas\n",
            "Salary         7.73034e+06\n",
            "Name: Avery Bradley, dtype: object \n",
            "\n",
            "\n",
            " Team        Boston Celtics\n",
            "Number                  28\n",
            "Position                SG\n",
            "Age                     22\n",
            "Height                 6-5\n",
            "Weight                 185\n",
            "College      Georgia State\n",
            "Salary         1.14864e+06\n",
            "Name: R.J. Hunter, dtype: object\n"
          ]
        }
      ]
    },
    {
      "cell_type": "code",
      "metadata": {
        "id": "Q3OZP5q3Q4pR",
        "colab": {
          "base_uri": "https://localhost:8080/"
        },
        "outputId": "60f54a27-3a3e-4fc6-e6ef-9de435f58d80"
      },
      "source": [
        "\n",
        "# making data frame from csv file\n",
        "data = pd.read_csv(\"nba.csv\", index_col =\"Name\")\n",
        "# retrieving row by loc method\n",
        "first = data.loc[\"Avery Bradley\"]\n",
        "second = data.loc[\"R.J. Hunter\"]\n",
        "print(first, \"\\n\\n\\n\", second)\n",
        "# making data frame from csv file\n",
        "data = pd.read_csv(\"nba.csv\", index_col =\"Name\")\n",
        "# retrieving rows by iloc method \n",
        "row2 = data.iloc[3] \n",
        "print(row2)\n",
        "# dictionary of lists\n",
        "dict = {'First Score':[100, 90, np.nan, 95],\n",
        "        'Second Score': [30, 45, 56, np.nan],\n",
        "        'Third Score':[np.nan, 40, 80, 98]}\n",
        "# creating a dataframe from list\n",
        "df = pd.DataFrame(dict)\n",
        "# using isnull() function  \n",
        "df.isnull()\n",
        "# dictionary of lists\n",
        "dict = {'First Score':[100, 90, np.nan, 95],\n",
        "        'Second Score': [30, 45, 56, np.nan],\n",
        "        'Third Score':[np.nan, 40, 80, 98]}\n",
        "# creating a dataframe from dictionary\n",
        "df = pd.DataFrame(dict)\n",
        "# filling missing value using fillna()  \n",
        "df.fillna(0)\n",
        "# dictionary of lists\n",
        "dict = {'First Score':[100, 90, np.nan, 95],\n",
        "        'Second Score': [30, np.nan, 45, 56],\n",
        "        'Third Score':[52, 40, 80, 98],\n",
        "        'Fourth Score':[np.nan, np.nan, np.nan, 65]}\n",
        " \n",
        "# creating a dataframe from dictionary\n",
        "df = pd.DataFrame(dict) \n",
        "df\n",
        "\n",
        "\n"
      ],
      "execution_count": null,
      "outputs": [
        {
          "output_type": "stream",
          "name": "stdout",
          "text": [
            "Team        Boston Celtics\n",
            "Number                   0\n",
            "Position                PG\n",
            "Age                     25\n",
            "Height                 6-2\n",
            "Weight                 180\n",
            "College              Texas\n",
            "Salary         7.73034e+06\n",
            "Name: Avery Bradley, dtype: object \n",
            "\n",
            "\n",
            " Team        Boston Celtics\n",
            "Number                  28\n",
            "Position                SG\n",
            "Age                     22\n",
            "Height                 6-5\n",
            "Weight                 185\n",
            "College      Georgia State\n",
            "Salary         1.14864e+06\n",
            "Name: R.J. Hunter, dtype: object\n"
          ]
        }
      ]
    },
    {
      "cell_type": "code",
      "metadata": {
        "id": "uP0uwaACRjqy",
        "colab": {
          "base_uri": "https://localhost:8080/"
        },
        "outputId": "af27b5e5-3827-4d2a-d43e-d9b5fde6e83d"
      },
      "source": [
        "\n",
        "# dictionary of lists\n",
        "dict = {'First Score':[100, 90, np.nan, 95],\n",
        "        'Second Score': [30, np.nan, 45, 56],\n",
        "        'Third Score':[52, 40, 80, 98],\n",
        "        'Fourth Score':[np.nan, np.nan, np.nan, 65]}\n",
        " \n",
        "# creating a dataframe from dictionary\n",
        "df = pd.DataFrame(dict)\n",
        " \n",
        "# using dropna() function  \n",
        "df.dropna()\n",
        "\n",
        "# dictionary of lists\n",
        "dict = {'name':[\"aparna\", \"pankaj\", \"sudhir\", \"Geeku\"],\n",
        "        'degree': [\"MBA\", \"BCA\", \"M.Tech\", \"MBA\"],\n",
        "        'score':[90, 40, 80, 98]}\n",
        " \n",
        "# creating a dataframe from a dictionary \n",
        "df = pd.DataFrame(dict)\n",
        " \n",
        "print(df)\n",
        "\n",
        "# dictionary of lists\n",
        "dict = {'name':[\"aparna\", \"pankaj\", \"sudhir\", \"Geeku\"],\n",
        "        'degree': [\"MBA\", \"BCA\", \"M.Tech\", \"MBA\"],\n",
        "        'score':[90, 40, 80, 98]}\n",
        "  \n",
        "# creating a dataframe from a dictionary \n",
        "df = pd.DataFrame(dict)\n",
        " \n",
        "print(df)\n",
        "\n"
      ],
      "execution_count": null,
      "outputs": [
        {
          "output_type": "stream",
          "name": "stdout",
          "text": [
            "     name  degree  score\n",
            "0  aparna     MBA     90\n",
            "1  pankaj     BCA     40\n",
            "2  sudhir  M.Tech     80\n",
            "3   Geeku     MBA     98\n",
            "     name  degree  score\n",
            "0  aparna     MBA     90\n",
            "1  pankaj     BCA     40\n",
            "2  sudhir  M.Tech     80\n",
            "3   Geeku     MBA     98\n"
          ]
        }
      ]
    },
    {
      "cell_type": "markdown",
      "metadata": {
        "id": "Fw8yxsg3R5QO"
      },
      "source": [
        "**Ex no:3**"
      ]
    },
    {
      "cell_type": "code",
      "metadata": {
        "id": "SEqef0wAWOa0"
      },
      "source": [
        "import matplotlib.pyplot as plt\n",
        "import numpy as np\n"
      ],
      "execution_count": null,
      "outputs": []
    },
    {
      "cell_type": "code",
      "metadata": {
        "colab": {
          "base_uri": "https://localhost:8080/",
          "height": 295
        },
        "id": "Okqz5Td3W43i",
        "outputId": "9d4d2979-fc33-45eb-eb88-fd520e755af4"
      },
      "source": [
        "list1=[11,22,12,13,15,17,20]\n",
        "list2=[21,23,24,25,26,23,25]\n",
        "\n",
        "\n",
        "plt.title(\"FDS lab pyplot\")\n",
        "plt.xlabel(\"X-Axis\")\n",
        "plt.ylabel(\"Y-Axis\")\n",
        "plt.legend('linear')\n",
        "plt.plot(list1,np.sin(list1),color=\"purple\")\n",
        "plt.plot(list2,np.cos(list2),color=\"green\")\n",
        "plt.show()"
      ],
      "execution_count": null,
      "outputs": [
        {
          "output_type": "display_data",
          "data": {
            "image/png": "[encoded data removed]",
            "text/plain": [
              "<Figure size 432x288 with 1 Axes>"
            ]
          },
          "metadata": {
            "needs_background": "light"
          }
        }
      ]
    },
    {
      "cell_type": "code",
      "metadata": {
        "colab": {
          "base_uri": "https://localhost:8080/",
          "height": 265
        },
        "id": "hqnlywHaW7TV",
        "outputId": "338ef0ce-74c9-4bf3-f275-2ff2ac392385"
      },
      "source": [
        "list1=[11,22,12,13,15,17,20]\n",
        "list2=[21,23,24,25,26,23,25]\n",
        "z=plt.scatter(list1,list2,color=\"grey\")\n",
        "plt.show()"
      ],
      "execution_count": null,
      "outputs": [
        {
          "output_type": "display_data",
          "data": {
            "image/png": "[encoded data removed]",
            "text/plain": [
              "<Figure size 432x288 with 1 Axes>"
            ]
          },
          "metadata": {
            "needs_background": "light"
          }
        }
      ]
    },
    {
      "cell_type": "code",
      "metadata": {
        "colab": {
          "base_uri": "https://localhost:8080/",
          "height": 265
        },
        "id": "rJeE6MIiW_VA",
        "outputId": "1850f0e3-6812-42ad-a680-7518c40f2e41"
      },
      "source": [
        "list1=[11,22,12,13,15,17,20]\n",
        "list2=[21,23,24,25,26,23,25]\n",
        "z=plt.bar(list1,list2,color=\"red\")\n",
        "plt.show()\n"
      ],
      "execution_count": null,
      "outputs": [
        {
          "output_type": "display_data",
          "data": {
            "image/png": "[encoded data removed]",
            "text/plain": [
              "<Figure size 432x288 with 1 Axes>"
            ]
          },
          "metadata": {
            "needs_background": "light"
          }
        }
      ]
    },
    {
      "cell_type": "code",
      "metadata": {
        "id": "agnJ14beXBnR"
      },
      "source": [
        "list1=[11,22,12,13,15,17,20]\n",
        "list2=[21,23,24,25,26,23,25]\n",
        "z=plt.barh(list1,list2,color=\"grey\")\n",
        "plt.show()"
      ],
      "execution_count": null,
      "outputs": []
    },
    {
      "cell_type": "code",
      "metadata": {
        "id": "ysqri-MCXD67"
      },
      "source": [
        "plt.style.use(\"classic\")\n",
        "data=np.random.randn(30)\n",
        "plt.hist(data)"
      ],
      "execution_count": null,
      "outputs": []
    },
    {
      "cell_type": "code",
      "metadata": {
        "id": "8HKruIEhXGRX"
      },
      "source": [
        "domain=[\"cloud\",\"gaming\",\"web develop\",\"data science\",\"python\"]\n",
        "count=[32,33,77,5,23]\n",
        "plt.pie(count,labels=domain,shadow=True,startangle=45)\n",
        "plt.legend(title=\"courses enrolled\")\n",
        "plt.show()"
      ],
      "execution_count": null,
      "outputs": []
    },
    {
      "cell_type": "markdown",
      "metadata": {
        "id": "g6nWW_5_XLAm"
      },
      "source": [
        "**exno:4**\n"
      ]
    },
    {
      "cell_type": "code",
      "metadata": {
        "colab": {
          "resources": {
            "http://localhost:8080/nbextensions/google.colab/files.js": {
              "data": "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",
              "ok": true,
              "headers": [
                [
                  "content-type",
                  "application/javascript"
                ]
              ],
              "status": 200,
              "status_text": ""
            }
          },
          "base_uri": "https://localhost:8080/",
          "height": 74
        },
        "id": "iV_u7FFoaYc0",
        "outputId": "0a65e5f6-46df-4a1c-8694-a3fb18def5ee"
      },
      "source": [
        "from google.colab import files\n",
        "uploaded = files.upload()"
      ],
      "execution_count": null,
      "outputs": [
        {
          "output_type": "display_data",
          "data": {
            "text/html": [
              "\n",
              "     <input type=\"file\" id=\"files-1ead90e7-3261-4cc2-83b4-d8db19656488\" name=\"files[]\" multiple disabled\n",
              "        style=\"border:none\" />\n",
              "     <output id=\"result-1ead90e7-3261-4cc2-83b4-d8db19656488\">\n",
              "      Upload widget is only available when the cell has been executed in the\n",
              "      current browser session. Please rerun this cell to enable.\n",
              "      </output>\n",
              "      <script src=\"/nbextensions/google.colab/files.js\"></script> "
            ],
            "text/plain": [
              "<IPython.core.display.HTML object>"
            ]
          },
          "metadata": {}
        },
        {
          "output_type": "stream",
          "name": "stdout",
          "text": [
            "Saving train.csv to train.csv\n"
          ]
        }
      ]
    },
    {
      "cell_type": "code",
      "metadata": {
        "colab": {
          "base_uri": "https://localhost:8080/"
        },
        "id": "i_1EboJBXbt8",
        "outputId": "6f9d3599-7d02-4fdd-ab65-17052f9a8ac3"
      },
      "source": [
        "import numpy as np\n",
        "import pandas as pd\n",
        "\n",
        "titanic_train = pd.read_csv(\"train.csv\")\n",
        "\n",
        "char_cabin = titanic_train[\"cabin\"].astype(str)\n",
        "new_Cabin = np.array([cabin[0] for cabin in char_cabin])\n",
        "\n",
        "titanic_train[\"cabin\"] = pd.Categorical(new_Cabin)\n",
        "my_tab = pd.crosstab(index=titanic_train[\"survived\"], columns=\"count\")\n",
        "\n",
        "print(my_tab)\n",
        "print('\\n')\n",
        "\n",
        "type(my_tab)\n",
        "print('\\n')\n",
        "\n",
        "pd.crosstab(index=titanic_train[\"pclass\"], columns=\"count\")\n",
        "pd.crosstab(index=titanic_train[\"sex\"], columns=\"count\")\n",
        "cabin_tab = pd.crosstab(index=titanic_train[\"cabin\"],columns=\"count\")\n",
        "print(cabin_tab)\n",
        "print('\\n')\n",
        "\n",
        "print(titanic_train.sex.value_counts())\n",
        "print('\\n')\n",
        "\n",
        "print (cabin_tab.sum(), \"\\n\")\n",
        "print('\\n')\n",
        "print (cabin_tab.shape, \"\\n\")\n",
        "print('\\n')\n",
        "\n",
        "print(cabin_tab.iloc[1:7]) # Slice\n",
        "print('\\n')\n",
        "\n",
        "print(cabin_tab/cabin_tab.sum())"
      ],
      "execution_count": null,
      "outputs": [
        {
          "output_type": "stream",
          "name": "stdout",
          "text": [
            "col_0     count\n",
            "survived       \n",
            "0           549\n",
            "1           342\n",
            "\n",
            "\n",
            "\n",
            "\n",
            "col_0  count\n",
            "cabin       \n",
            "A         15\n",
            "B         47\n",
            "C         59\n",
            "D         33\n",
            "E         32\n",
            "F         13\n",
            "G          4\n",
            "T          1\n",
            "n        687\n",
            "\n",
            "\n",
            "male      577\n",
            "female    314\n",
            "Name: sex, dtype: int64\n",
            "\n",
            "\n",
            "col_0\n",
            "count    891\n",
            "dtype: int64 \n",
            "\n",
            "\n",
            "\n",
            "(9, 1) \n",
            "\n",
            "\n",
            "\n",
            "col_0  count\n",
            "cabin       \n",
            "B         47\n",
            "C         59\n",
            "D         33\n",
            "E         32\n",
            "F         13\n",
            "G          4\n",
            "\n",
            "\n",
            "col_0     count\n",
            "cabin          \n",
            "A      0.016835\n",
            "B      0.052750\n",
            "C      0.066218\n",
            "D      0.037037\n",
            "E      0.035915\n",
            "F      0.014590\n",
            "G      0.004489\n",
            "T      0.001122\n",
            "n      0.771044\n"
          ]
        }
      ]
    },
    {
      "cell_type": "code",
      "source": [
        "4th updated"
      ],
      "metadata": {
        "id": "9ZAS2Z3lgruw"
      },
      "execution_count": null,
      "outputs": []
    },
    {
      "cell_type": "code",
      "source": [
        "import numpy as np\n",
        "import pandas as pd\n",
        "\n",
        "book = pd.read_csv(\"train.csv\")\n",
        "#g=book.iloc[0]\n",
        "h =book.x.value_counts()\n",
        "#print(h)\n",
        "#print(g)\n",
        "p=pd.crosstab(index=book[\"x\"],columns=\"count\")\n",
        "print(p)\n",
        "print(p['count'].sum())\n",
        "k=(pd.crosstab(index=book[\"x\"],columns=\"rf\"))/p['count'].sum()\n",
        "print(k)"
      ],
      "metadata": {
        "id": "qrF5eSRgguPO"
      },
      "execution_count": null,
      "outputs": []
    },
    {
      "cell_type": "markdown",
      "metadata": {
        "id": "eNIhqTS6bOWy"
      },
      "source": [
        "**ex no:5**"
      ]
    },
    {
      "cell_type": "code",
      "metadata": {
        "colab": {
          "base_uri": "https://localhost:8080/"
        },
        "id": "VLWTXUmab5-w",
        "outputId": "c3a5710d-bb91-4bc2-bddd-9aba7dbc0202"
      },
      "source": [
        "# Python program to demonstrate mean()\n",
        "# function from the statistics module\n",
        "\n",
        "# Importing the statistics module\n",
        "from statistics import mean\n",
        "\n",
        "# Importing fractions module as fr\n",
        "# Enables to calculate mean of a\n",
        "# set in Fraction\n",
        "from fractions import Fraction as fr\n",
        "\n",
        "\n",
        "# tuple of positive integer numbers\n",
        "data1 = (11, 3, 4, 5, 7, 9, 2)\n",
        "\n",
        "# tuple of a negative set of integers\n",
        "data2 = (-1, -2, -4, -7, -12, -19)\n",
        "\n",
        "# tuple of mixed range of numbers\n",
        "data3 = (-1, -13, -6, 4, 5, 19, 9)\n",
        "\n",
        "# tuple of a set of fractional numbers\n",
        "data4 = (fr(1, 2), fr(44, 12), fr(10, 3), fr(2, 3))\n",
        "\n",
        "# dictionary of a set of values\n",
        "# Only the keys are taken in\n",
        "# consideration by mean()\n",
        "data5 = {1:\"one\", 2:\"two\", 3:\"three\"}\n",
        "\n",
        "\n",
        "# Printing the mean of above datasets\n",
        "print(\"Mean of data set 1 is % s\" % (mean(data1)))\n",
        "print(\"Mean of data set 2 is % s\" % (mean(data2)))\n",
        "print(\"Mean of data set 3 is % s\" % (mean(data3)))\n",
        "print(\"Mean of data set 4 is % s\" % (mean(data4)))\n",
        "print(\"Mean of data set 5 is % s\" % (mean(data5)))"
      ],
      "execution_count": null,
      "outputs": [
        {
          "output_type": "stream",
          "name": "stdout",
          "text": [
            "Mean of data set 1 is 5.857142857142857\n",
            "Mean of data set 2 is -7.5\n",
            "Mean of data set 3 is 2.4285714285714284\n",
            "Mean of data set 4 is 49/24\n",
            "Mean of data set 5 is 2\n"
          ]
        }
      ]
    },
    {
      "cell_type": "markdown",
      "metadata": {
        "id": "FJjmxJg-cy32"
      },
      "source": [
        " **ex no: 6**"
      ]
    },
    {
      "cell_type": "code",
      "metadata": {
        "colab": {
          "base_uri": "https://localhost:8080/"
        },
        "id": "2M8EWXPHbGw0",
        "outputId": "dc389057-7764-4fc2-a435-31156fd9a386"
      },
      "source": [
        "# Python program to demonstrate cariance()\n",
        "# function from the statistics module\n",
        "\n",
        "\n",
        "from statistics import variance\n",
        "\n",
        "# Importing fractions module as fr\n",
        "# Enables to calculate mean of a\n",
        "# set in Fraction\n",
        "from fractions import Fraction as fr\n",
        "\n",
        "\n",
        "# tuple of positive integer numbers\n",
        "data1 = (11, 3, 4, 5, 7, 9, 2)\n",
        "\n",
        "# tuple of a negative set of integers\n",
        "data2 = (-1, -2, -4, -7, -12, -19)\n",
        "\n",
        "# tuple of mixed range of numbers\n",
        "data3 = (-1, -13, -6, 4, 5, 19, 9)\n",
        "\n",
        "# tuple of a set of fractional numbers\n",
        "data4 = (fr(1, 2), fr(44, 12), fr(10, 3), fr(2, 3))\n",
        "\n",
        "# dictionary of a set of values\n",
        "# Only the keys are taken in\n",
        "# consideration by variance()\n",
        "data5 = {1:\"one\", 2:\"two\", 3:\"three\"}\n",
        "\n",
        "#printing the variance of above datasets\n",
        "\n",
        "print(\"Variance of data set 1 is % s\" % (variance(data1)))\n",
        "print(\"Variance of data set 2 is % s\" % (variance(data2)))\n",
        "print(\"Variance of data set 3 is % s\" % (variance(data3)))\n",
        "print(\"Variance of data set 4 is % s\" % (variance(data4)))\n",
        "print(\"Variance of data set 5 is % s\" % (variance(data5)))"
      ],
      "execution_count": null,
      "outputs": [
        {
          "output_type": "stream",
          "name": "stdout",
          "text": [
            "Variance of data set 1 is 10.80952380952381\n",
            "Variance of data set 2 is 47.5\n",
            "Variance of data set 3 is 107.95238095238096\n",
            "Variance of data set 4 is 1235/432\n",
            "Variance of data set 5 is 1\n"
          ]
        }
      ]
    },
    {
      "cell_type": "markdown",
      "metadata": {
        "id": "i_iWvAv8b7bW"
      },
      "source": [
        "**ex no: 7**"
      ]
    },
    {
      "cell_type": "code",
      "metadata": {
        "colab": {
          "base_uri": "https://localhost:8080/",
          "height": 297
        },
        "id": "u2lDVjR0bpch",
        "outputId": "6acf0be4-1f95-47d6-e71f-5acbaa3d97c3"
      },
      "source": [
        "# Importing required libraries\n",
        " \n",
        "import numpy as np\n",
        "import matplotlib.pyplot as plt\n",
        " \n",
        "# Creating a series of data of in range of 1-50.\n",
        "x = np.linspace(1,50,200)\n",
        " \n",
        "#Creating a Function.\n",
        "def normal_dist(x , mean , sd):\n",
        "    prob_density = (np.pi*sd) * np.exp(-0.5*((x-mean)/sd)**2)\n",
        "    return prob_density\n",
        " \n",
        "#Calculate mean and Standard deviation.\n",
        "mean = np.mean(x)\n",
        "sd = np.std(x)\n",
        " \n",
        "#Apply function to the data.\n",
        "pdf = normal_dist(x,mean,sd)\n",
        " \n",
        "#Plotting the Results\n",
        "plt.plot(x,pdf , color = 'red')\n",
        "plt.xlabel('Data points')\n",
        "plt.ylabel('Probability Density')"
      ],
      "execution_count": null,
      "outputs": [
        {
          "output_type": "execute_result",
          "data": {
            "text/plain": [
              "Text(0, 0.5, 'Probability Density')"
            ]
          },
          "metadata": {},
          "execution_count": 12
        },
        {
          "output_type": "display_data",
          "data": {
            "image/png": "[encoded data removed]",
            "text/plain": [
              "<Figure size 432x288 with 1 Axes>"
            ]
          },
          "metadata": {
            "needs_background": "light"
          }
        }
      ]
    },
    {
      "cell_type": "code",
      "source": [
        "#Importing packages\n",
        "import pandas as pd\n",
        "import numpy as np\n",
        "import matplotlib.pyplot as plt\n",
        "import seaborn as sns\n",
        "import scipy.stats as sp\n",
        "%matplotlib inline\n",
        "#Uploading and reading a dataset\n",
        "from google.colab import files\n",
        "uploaded = files.upload()\n",
        "df = pd.read_excel('data.xlsx')\n",
        "df.head()\n",
        "#finding correlation coefficient using corr()\n",
        "variable1 = df['x']\n",
        "variable2 = df['y']\n",
        "variable1.corr(variable2) //corr between two co-ordinates\n",
        "df.corr() // corr between every relation\n",
        "#finding correlation coefficient using corrcoef()\n",
        "print(np.corrcoef(variable1, variable2))\n",
        "#finding correlation coefficient using pearsonr()\n",
        "x = variable1\n",
        "y = variable2\n",
        "print(sp.pearsonr(variable1, variable2))\n",
        "#Scatter plot using scatter()\n",
        "plt.scatter(variable1, variable2, color='red')\n",
        "#pairplot() and heatmap()\n",
        "sns.pairplot(df)\n",
        "sns.heatmap(df.corr())"
      ],
      "metadata": {
        "colab": {
          "base_uri": "https://localhost:8080/",
          "height": 130
        },
        "id": "1EOy6fFg34BE",
        "outputId": "2d9e871a-6af1-4064-c024-6a206e663e09"
      },
      "execution_count": null,
      "outputs": [
        {
          "output_type": "error",
          "ename": "SyntaxError",
          "evalue": "ignored",
          "traceback": [
            "\u001b[0;36m  File \u001b[0;32m\"<ipython-input-1-4abab7918dc3>\"\u001b[0;36m, line \u001b[0;32m16\u001b[0m\n\u001b[0;31m    variable1.corr(variable2) //corr between two co-ordinates\u001b[0m\n\u001b[0m                                           ^\u001b[0m\n\u001b[0;31mSyntaxError\u001b[0m\u001b[0;31m:\u001b[0m invalid syntax\n"
          ]
        }
      ]
    },
    {
      "cell_type": "code",
      "source": [
        "import numpy as np\n",
        "import pandas as pd\n",
        "import matplotlib.pyplot as plt\n",
        "\n",
        "df = pd.read_csv('sample.csv')\n",
        "\n",
        "print(\"The all possible correlations for the given data are: \\n\", df.corr())\n",
        "#print(\"\\n Correlation of heights with respect to weights are: \",df['Heights'].corr(df['Weights']))\n",
        "\n",
        "'''#manual correlation calculation\n",
        "h = df['Heights']\n",
        "w = df['Weights']\n",
        "sh = [i**2 for i in h]\n",
        "sw = [i**2 for i in w]\n",
        "hw = [h[i]*w[i] for i in range(len(h))]\n",
        "\n",
        "SSx = sum(sh) - (sum(h)**2/len(h))\n",
        "SSy = sum(sw) - (sum(w)**2/len(w))\n",
        "SPxy = sum(hw) - ((sum(h)*sum(w))/len(h))\n",
        "r = SPxy/(SSx * SSy)**0.5\n",
        "print('The correlation computed using formula is: ',r)'''\n",
        "\n",
        "\n",
        "#scatterplot\n",
        "plt.scatter(h,w, color = 'red', edgecolor = 'black')\n",
        "plt.title('Correlation scatterplot')\n",
        "plt.show()\n"
      ],
      "metadata": {
        "colab": {
          "base_uri": "https://localhost:8080/",
          "height": 350
        },
        "id": "DjDY_w9prSLg",
        "outputId": "1ccd7935-d52d-4291-c645-c0a9c5d43e67"
      },
      "execution_count": null,
      "outputs": [
        {
          "output_type": "stream",
          "name": "stdout",
          "text": [
            "The all possible correlations for the given data are: \n",
            "           Heights   Weights\n",
            "Heights  1.000000  0.880727\n",
            "Weights  0.880727  1.000000\n"
          ]
        },
        {
          "output_type": "display_data",
          "data": {
            "image/png": "[encoded data removed]",
            "text/plain": [
              "<Figure size 432x288 with 1 Axes>"
            ]
          },
          "metadata": {
            "needs_background": "light"
          }
        }
      ]
    },
    {
      "cell_type": "markdown",
      "metadata": {
        "id": "zeBj1dfIdYIv"
      },
      "source": [
        "**ex no 10**"
      ]
    },
    {
      "cell_type": "code",
      "metadata": {
        "colab": {
          "base_uri": "https://localhost:8080/",
          "height": 520
        },
        "id": "gSbEGnbhdbo8",
        "outputId": "2190c882-b347-4381-bab5-3076b6ece9a8"
      },
      "source": [
        "import pandas as pd\n",
        "import numpy as np\n",
        "import matplotlib.pyplot as plt\n",
        "from sklearn.linear_model import LinearRegression\n",
        "x = np.array([150, 200, 250,400,500,600]).reshape((-1, 1))\n",
        "y = np.array([5000, 5500, 6400, 7500, 8000, 8500])\n",
        "print(x)\n",
        "print(y)\n",
        "plt.scatter(x,y)\n",
        "plt.plot(x,y)\n",
        "model = LinearRegression().fit(x, y)\n",
        "r_sq = model.score(x, y)\n",
        "print('coefficient of determination:', r_sq)\n",
        "print('intercept:', model.intercept_)\n",
        "print('slope:', model.coef_)\n",
        "y_pred = model.predict(x)\n",
        "print('predicted response:', y_pred, sep='\\n')\n",
        "plt.plot(x,y_pred)"
      ],
      "execution_count": null,
      "outputs": [
        {
          "output_type": "stream",
          "name": "stdout",
          "text": [
            "[[150]\n",
            " [200]\n",
            " [250]\n",
            " [400]\n",
            " [500]\n",
            " [600]]\n",
            "[5000 5500 6400 7500 8000 8500]\n",
            "coefficient of determination: 0.9620847350714887\n",
            "intercept: 4115.104166666666\n",
            "slope: [7.71875]\n",
            "predicted response:\n",
            "[5272.91666667 5658.85416667 6044.79166667 7202.60416667 7974.47916667\n",
            " 8746.35416667]\n"
          ]
        },
        {
          "output_type": "execute_result",
          "data": {
            "text/plain": [
              "[<matplotlib.lines.Line2D at 0x7f9c928a9f90>]"
            ]
          },
          "metadata": {},
          "execution_count": 13
        },
        {
          "output_type": "display_data",
          "data": {
            "image/png": "[encoded data removed]",
            "text/plain": [
              "<Figure size 432x288 with 1 Axes>"
            ]
          },
          "metadata": {
            "needs_background": "light"
          }
        }
      ]
    }
  ]
}